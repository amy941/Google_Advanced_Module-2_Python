{
 "cells": [
  {
   "cell_type": "code",
   "execution_count": 4,
   "metadata": {},
   "outputs": [
    {
     "name": "stdout",
     "output_type": "stream",
     "text": [
      "Amy learns Python\n"
     ]
    }
   ],
   "source": [
    "# print() function can print text to the screen.\n",
    "print('Amy learns Python')"
   ]
  },
  {
   "cell_type": "code",
   "execution_count": 5,
   "metadata": {},
   "outputs": [
    {
     "data": {
      "text/plain": [
       "int"
      ]
     },
     "execution_count": 5,
     "metadata": {},
     "output_type": "execute_result"
    }
   ],
   "source": [
    "# type() function returns an object's data type.\n",
    "age = 30\n",
    "\n",
    "type(age)"
   ]
  },
  {
   "cell_type": "code",
   "execution_count": 14,
   "metadata": {},
   "outputs": [
    {
     "data": {
      "text/plain": [
       "str"
      ]
     },
     "execution_count": 14,
     "metadata": {},
     "output_type": "execute_result"
    }
   ],
   "source": [
    "# str() function converts an object to a string.\n",
    "age = str(age)\n",
    "\n",
    "type(age)"
   ]
  },
  {
   "cell_type": "code",
   "execution_count": 15,
   "metadata": {},
   "outputs": [
    {
     "name": "stdout",
     "output_type": "stream",
     "text": [
      "Welcome, Amy!\n",
      "You are part of the team!\n"
     ]
    }
   ],
   "source": [
    "# def with arguments\n",
    "def greeting(name):\n",
    "    print(\"Welcome, \" + name + \"!\")\n",
    "    print(\"You are part of the team!\")\n",
    "\n",
    "greeting(\"Amy\")"
   ]
  },
  {
   "cell_type": "code",
   "execution_count": 16,
   "metadata": {},
   "outputs": [
    {
     "name": "stdout",
     "output_type": "stream",
     "text": [
      "Welcome, Amy!\n",
      "You are part of the team!\n"
     ]
    }
   ],
   "source": [
    "# def without arguments\n",
    "def greeting():\n",
    "    print(\"Welcome, Amy!\")\n",
    "    print(\"You are part of the team!\")\n",
    "\n",
    "greeting()"
   ]
  },
  {
   "cell_type": "code",
   "execution_count": 17,
   "metadata": {},
   "outputs": [
    {
     "data": {
      "text/plain": [
       "20.5"
      ]
     },
     "execution_count": 17,
     "metadata": {},
     "output_type": "execute_result"
    }
   ],
   "source": [
    "# define function's name as 'area_triangle', with its parameters/arguments: base and height\n",
    "# return function to calc. area of triangle as 'base times height divided by 2'\n",
    "\n",
    "\n",
    "\n",
    "def area_triangle (base, height):\n",
    "    area_triangle = base * height /2\n",
    "    return area_triangle\n",
    "\n",
    "# Have 2 triangles, calc. them separately, sum them up\n",
    "area_triangle_a = area_triangle (5, 4)\n",
    "area_triangle_b = area_triangle (7, 3)\n",
    "\n",
    "total_area = area_triangle_a + area_triangle_b\n",
    "\n",
    "total_area\n",
    "\n"
   ]
  },
  {
   "cell_type": "code",
   "execution_count": 18,
   "metadata": {},
   "outputs": [
    {
     "data": {
      "text/plain": [
       "109210"
      ]
     },
     "execution_count": 18,
     "metadata": {},
     "output_type": "execute_result"
    }
   ],
   "source": [
    "# Reusability: defining code once and using it many times w/o having to rewrite it.\n",
    "\n",
    "def get_seconds(hours, minutes, seconds):\n",
    "    total_seconds = 3600*hours + 60*minutes + seconds\n",
    "    return total_seconds\n",
    "\n",
    "get_seconds(30,20,10)"
   ]
  },
  {
   "cell_type": "code",
   "execution_count": 1,
   "metadata": {},
   "outputs": [
    {
     "name": "stdout",
     "output_type": "stream",
     "text": [
      "Hello Amy. Your lucky number is 27\n",
      "Hello Pham. Your lucky number is 36\n"
     ]
    }
   ],
   "source": [
    "# Redundant code\n",
    "\n",
    "name = \"Amy\"\n",
    "number = len(name) * 9\n",
    "print(\"Hello \" + name + \". Your lucky number is \" + str(number))\n",
    "\n",
    "name = \"Pham\"\n",
    "number = len(name) * 9\n",
    "print(\"Hello \" + name + \". Your lucky number is \" + str(number))"
   ]
  },
  {
   "cell_type": "code",
   "execution_count": 20,
   "metadata": {},
   "outputs": [
    {
     "name": "stdout",
     "output_type": "stream",
     "text": [
      "Hello Amy. Your lucky number is 27\n",
      "Hello Pham. Your lucky number is 36\n"
     ]
    }
   ],
   "source": [
    "# \"Clean\" version\n",
    "\n",
    "def lucky_number(name):\n",
    "    number = len(name) * 9\n",
    "    print(\"Hello \" + name + \". Your lucky number is \" + str(number))\n",
    "    \n",
    "\n",
    "lucky_number(\"Amy\")\n",
    "lucky_number(\"Pham\")"
   ]
  },
  {
   "cell_type": "code",
   "execution_count": 23,
   "metadata": {},
   "outputs": [
    {
     "name": "stdout",
     "output_type": "stream",
     "text": [
      "5\n",
      "120\n"
     ]
    }
   ],
   "source": [
    "# This funtion takes an Integer as an INPUT and returns its factorial\n",
    "def factorial(n):\n",
    "    # Exclude 0 as product, start with 1\n",
    "    y = 1\n",
    "    for i in range(int(n)):\n",
    "        y = y * (i+1)\n",
    "    return y\n",
    "    \n",
    "# Enter a numerical value between 1-9 in the command line that appears \n",
    "input_num = input()\n",
    "# Apply factorial function to an Integer input\n",
    "print(factorial(input_num))\n",
    "\n",
    "\n"
   ]
  },
  {
   "cell_type": "code",
   "execution_count": 3,
   "metadata": {},
   "outputs": [
    {
     "data": {
      "text/plain": [
       "14000"
      ]
     },
     "execution_count": 3,
     "metadata": {},
     "output_type": "execute_result"
    }
   ],
   "source": [
    "def seed_calculator(fountain_side, grass_width):\n",
    "    '''\n",
    "    Calculate number of kg of grass seed needed for a border around a square fountain\n",
    "        \n",
    "        Parameters:\n",
    "            fountain_side (num): length of 1 side of fountain in meters\n",
    "            grass_width (num): width of grass border in meters\n",
    "            \n",
    "        Returns:\n",
    "            seed (float): amount of seed (kg) needed for the border.\n",
    "    '''\n",
    "    # Area of fountain\n",
    "    fountain_area = fountain_side ** 2\n",
    "    \n",
    "    # Total Area\n",
    "    total_area = (fountain_side + 2 * grass_width) ** 2\n",
    "    \n",
    "    # Area of grass border\n",
    "    grass_area = total_area - fountain_area\n",
    "    \n",
    "    # Amount of seed needed (35 g/sqr meter)\n",
    "    seed = grass_area * 35\n",
    "    \n",
    "    # Convert to kg\n",
    "    sedd = seed / 1000\n",
    "    \n",
    "    return seed\n",
    "\n",
    "seed_calculator (15, 5)\n"
   ]
  },
  {
   "cell_type": "code",
   "execution_count": null,
   "metadata": {},
   "outputs": [],
   "source": [
    "def my_function(parameters):\n",
    "    '''\n",
    "    Docstring.\n",
    "    Summarize the function's behavior and explain its arguments and return values.\n",
    "    \n",
    "    '''\n",
    "    \n",
    "    code block\n",
    "    \n",
    "    return value\n",
    "\n",
    "# the def keyword, followed by function's name, then its parameters/arguements in parentheses, ending with a colon.\n",
    "# Docstring: a command, 3 opening and closing quotation marks, to summarize.\n",
    "# Code block: body, indented 4 spaces from the def function.\n",
    "# Return statement: return a value, also indented 4 spaces \n",
    "             \n",
    "    "
   ]
  },
  {
   "cell_type": "code",
   "execution_count": 7,
   "metadata": {},
   "outputs": [
    {
     "data": {
      "text/plain": [
       "['The', 'eagle', 'filled', 'the', 'sky']"
      ]
     },
     "execution_count": 7,
     "metadata": {},
     "output_type": "execute_result"
    }
   ],
   "source": [
    "# Functions vs. Methods\n",
    "\n",
    "# Methods: a specific type of function/ are functions that belong to a class/ using dot notation\n",
    "'''\n",
    "the function my_string.split() is a function\n",
    "it belongs to S-T-R class\n",
    "it splits strings on their whitespaces\n",
    "\n",
    "'''\n",
    "\n",
    "my_string = \"The eagle filled the sky\"\n",
    "my_string.split()\n",
    "\n",
    "\n"
   ]
  },
  {
   "cell_type": "code",
   "execution_count": 12,
   "metadata": {},
   "outputs": [
    {
     "data": {
      "text/plain": [
       "3"
      ]
     },
     "execution_count": 12,
     "metadata": {},
     "output_type": "execute_result"
    }
   ],
   "source": [
    "# Functions: computations (sum, min, max,...)\n",
    "sum([1,2])\n",
    "\n",
    "# the square brackets are used to create a list, providing a container for the element that sum() can iterate over to calc. the sum.\n",
    "# iterate over: loop thro each element in the list, and perform summing (in this case) operation."
   ]
  },
  {
   "cell_type": "code",
   "execution_count": 6,
   "metadata": {},
   "outputs": [
    {
     "name": "stdout",
     "output_type": "stream",
     "text": [
      "True\n"
     ]
    }
   ],
   "source": [
    "# BOOLEAN: >, <, >=, =<, ==, !=\n",
    "print(10>1)"
   ]
  },
  {
   "cell_type": "code",
   "execution_count": 7,
   "metadata": {},
   "outputs": [
    {
     "name": "stdout",
     "output_type": "stream",
     "text": [
      "False\n"
     ]
    }
   ],
   "source": [
    "print('cat' == 'dog')"
   ]
  },
  {
   "cell_type": "code",
   "execution_count": 8,
   "metadata": {},
   "outputs": [
    {
     "name": "stdout",
     "output_type": "stream",
     "text": [
      "True\n"
     ]
    }
   ],
   "source": [
    "print('cat' != 'dog')"
   ]
  },
  {
   "cell_type": "code",
   "execution_count": 9,
   "metadata": {},
   "outputs": [
    {
     "ename": "TypeError",
     "evalue": "'<' not supported between instances of 'int' and 'str'",
     "output_type": "error",
     "traceback": [
      "\u001b[0;31m---------------------------------------------------------------------------\u001b[0m",
      "\u001b[0;31mTypeError\u001b[0m                                 Traceback (most recent call last)",
      "\u001b[0;32m<ipython-input-9-32b92711b0af>\u001b[0m in \u001b[0;36m<module>\u001b[0;34m\u001b[0m\n\u001b[0;32m----> 1\u001b[0;31m \u001b[0mprint\u001b[0m \u001b[0;34m(\u001b[0m\u001b[0;36m1\u001b[0m \u001b[0;34m<\u001b[0m \u001b[0;34m'1'\u001b[0m\u001b[0;34m)\u001b[0m  \u001b[0;31m#compare an Int to Str\u001b[0m\u001b[0;34m\u001b[0m\u001b[0;34m\u001b[0m\u001b[0m\n\u001b[0m",
      "\u001b[0;31mTypeError\u001b[0m: '<' not supported between instances of 'int' and 'str'"
     ]
    }
   ],
   "source": [
    "print (1 < '1')  #compare an Int to Str"
   ]
  },
  {
   "cell_type": "code",
   "execution_count": 10,
   "metadata": {},
   "outputs": [
    {
     "name": "stdout",
     "output_type": "stream",
     "text": [
      "False\n"
     ]
    }
   ],
   "source": [
    "# and \n",
    "print('Yellow' > 'Cyan' and 'Brown' > 'Red')"
   ]
  },
  {
   "cell_type": "code",
   "execution_count": 11,
   "metadata": {},
   "outputs": [
    {
     "name": "stdout",
     "output_type": "stream",
     "text": [
      "True\n"
     ]
    }
   ],
   "source": [
    "# or\n",
    "print(25 > 50 or 1 != 2)"
   ]
  },
  {
   "cell_type": "code",
   "execution_count": 12,
   "metadata": {},
   "outputs": [
    {
     "name": "stdout",
     "output_type": "stream",
     "text": [
      "True\n"
     ]
    }
   ],
   "source": [
    "# not\n",
    "print(not 42 == 'Answer')"
   ]
  },
  {
   "cell_type": "code",
   "execution_count": 13,
   "metadata": {},
   "outputs": [],
   "source": [
    "x = 3\n",
    "my_list = [3,4,6,10]\n"
   ]
  },
  {
   "cell_type": "code",
   "execution_count": 14,
   "metadata": {},
   "outputs": [
    {
     "name": "stdout",
     "output_type": "stream",
     "text": [
      "False\n"
     ]
    }
   ],
   "source": [
    "print(x < 3 and x != 0)"
   ]
  },
  {
   "cell_type": "code",
   "execution_count": 15,
   "metadata": {},
   "outputs": [
    {
     "name": "stdout",
     "output_type": "stream",
     "text": [
      "True\n"
     ]
    }
   ],
   "source": [
    "print(x >= len(my_list) or x == min(my_list))"
   ]
  },
  {
   "cell_type": "code",
   "execution_count": 16,
   "metadata": {},
   "outputs": [
    {
     "name": "stdout",
     "output_type": "stream",
     "text": [
      "False\n"
     ]
    }
   ],
   "source": [
    "print(x not in my_list)"
   ]
  },
  {
   "cell_type": "code",
   "execution_count": 21,
   "metadata": {},
   "outputs": [],
   "source": [
    "# if \n",
    "def hint_username(username):\n",
    "    if len(username) < 8:\n",
    "        print('Invalid username. Must be at least 8 characters long.')\n",
    "    else:\n",
    "        print('Valid username.')"
   ]
  },
  {
   "cell_type": "code",
   "execution_count": 27,
   "metadata": {},
   "outputs": [
    {
     "name": "stdout",
     "output_type": "stream",
     "text": [
      "Valid username.\n",
      "Invalid username. Must be at least 8 characters long.\n"
     ]
    }
   ],
   "source": [
    "hint_username('Amy Pham')\n",
    "hint_username('Amy')"
   ]
  },
  {
   "cell_type": "code",
   "execution_count": 29,
   "metadata": {},
   "outputs": [
    {
     "data": {
      "text/plain": [
       "1"
      ]
     },
     "execution_count": 29,
     "metadata": {},
     "output_type": "execute_result"
    }
   ],
   "source": [
    " 5 % 2\n",
    "    "
   ]
  },
  {
   "cell_type": "code",
   "execution_count": 30,
   "metadata": {},
   "outputs": [
    {
     "data": {
      "text/plain": [
       "2"
      ]
     },
     "execution_count": 30,
     "metadata": {},
     "output_type": "execute_result"
    }
   ],
   "source": [
    "11 % 3"
   ]
  },
  {
   "cell_type": "code",
   "execution_count": 31,
   "metadata": {},
   "outputs": [
    {
     "data": {
      "text/plain": [
       "0"
      ]
     },
     "execution_count": 31,
     "metadata": {},
     "output_type": "execute_result"
    }
   ],
   "source": [
    "10 % 2"
   ]
  },
  {
   "cell_type": "code",
   "execution_count": 34,
   "metadata": {},
   "outputs": [
    {
     "data": {
      "text/plain": [
       "True"
      ]
     },
     "execution_count": 34,
     "metadata": {},
     "output_type": "execute_result"
    }
   ],
   "source": [
    "def is_even(number):\n",
    "    if number % 2 ==0:\n",
    "        return True\n",
    "    return False\n",
    "\n",
    "is_even(2)\n"
   ]
  },
  {
   "cell_type": "code",
   "execution_count": null,
   "metadata": {},
   "outputs": [],
   "source": [
    "# elif\n",
    "def hint_username(username):\n",
    "    if len(username) < 8:\n",
    "        print('Invalid username. Must be at least 8 characters long.')\n",
    "    else:\n",
    "        if len(username) > 15:\n",
    "            print('Invalid username. Cannot exceed 15 characters.')\n",
    "        else:\n",
    "            print('Valid username.')"
   ]
  },
  {
   "cell_type": "code",
   "execution_count": 41,
   "metadata": {},
   "outputs": [],
   "source": [
    "# elif\n",
    "def hint_username(username):\n",
    "    if len(username) < 8:\n",
    "        print('Invalid username. Must be at least 8 characters long.')\n",
    "    elif len(username) > 15:\n",
    "        print('Invalid username. Cannot exceed 15 characters.')\n",
    "    else: print('Valid username.')"
   ]
  },
  {
   "cell_type": "code",
   "execution_count": 42,
   "metadata": {},
   "outputs": [
    {
     "name": "stdout",
     "output_type": "stream",
     "text": [
      "Invalid username. Cannot exceed 15 characters.\n"
     ]
    }
   ],
   "source": [
    "hint_username('AmyMinhPhammmmmmm')"
   ]
  },
  {
   "cell_type": "code",
   "execution_count": null,
   "metadata": {},
   "outputs": [],
   "source": []
  },
  {
   "cell_type": "code",
   "execution_count": null,
   "metadata": {},
   "outputs": [],
   "source": []
  },
  {
   "cell_type": "code",
   "execution_count": null,
   "metadata": {},
   "outputs": [],
   "source": []
  },
  {
   "cell_type": "code",
   "execution_count": null,
   "metadata": {},
   "outputs": [],
   "source": []
  },
  {
   "cell_type": "code",
   "execution_count": null,
   "metadata": {},
   "outputs": [],
   "source": []
  }
 ],
 "metadata": {
  "kernelspec": {
   "display_name": "Python 3",
   "language": "python",
   "name": "python3"
  },
  "language_info": {
   "codemirror_mode": {
    "name": "ipython",
    "version": 3
   },
   "file_extension": ".py",
   "mimetype": "text/x-python",
   "name": "python",
   "nbconvert_exporter": "python",
   "pygments_lexer": "ipython3",
   "version": "3.7.6"
  }
 },
 "nbformat": 4,
 "nbformat_minor": 4
}
